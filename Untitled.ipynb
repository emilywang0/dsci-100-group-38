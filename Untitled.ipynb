{
 "cells": [
  {
   "cell_type": "markdown",
   "id": "469aa960-a4ca-4c1a-ad98-129de4a0a2de",
   "metadata": {},
   "source": [
    "# The Characteristics of a Tennis Match Winner\n",
    "\n",
    "### Group 38 Project Proposal\n",
    "\n",
    "#### Introduction\n",
    "Likelihood of winning a game of tennis can be divided into four categories: strategy, technique, physical attributes and preparation, and mental game. While all components contribute to a win, we aim to test the importance of physical attributes and preparation by predicting the rank of a tennis player based on attributes such as height, age, hand-dominance, seasons active, and favorite surface. To answer this question we will use data from the dataset “player_stats.csv”, which describes the player statistics for the top 500 tennis players, using data on physical attributes such as height, age, and hand dominance, as well as on variables such as seasons active and favorite surface. \n",
    "\n",
    "#### Preliminary exploratory data analysis\n",
    "\n",
    "##### Methods\n",
    "The columns we will be using for this project are “winner_ht” (winner height), “winner_hand”, and “winner_age”. We will be using a histogram to visualise the results by plotting players’ heights, handedness, or age (on the x-axis) with their frequency of winning tennis matches (on the y-axis). There will be 3 separate histograms, one for each respective variable. The value associated with the highest bars in each histogram will be classified as the likely characteristic of a tennis match winner. \n",
    "\n",
    "##### Expected outcomes and significance:\n",
    "\n",
    "- What do you expect to find?\n",
    "- What impact could such findings have?\n",
    "- What future questions could this lead to?\n",
    "\n"
   ]
  },
  {
   "cell_type": "code",
   "execution_count": 3,
   "id": "f43c947e-c4e0-40f5-8087-9e0d8e5b51d3",
   "metadata": {},
   "outputs": [
    {
     "name": "stderr",
     "output_type": "stream",
     "text": [
      "── \u001b[1mAttaching packages\u001b[22m ─────────────────────────────────────── tidyverse 1.3.1 ──\n",
      "\n",
      "\u001b[32m✔\u001b[39m \u001b[34mggplot2\u001b[39m 3.3.6     \u001b[32m✔\u001b[39m \u001b[34mpurrr  \u001b[39m 0.3.4\n",
      "\u001b[32m✔\u001b[39m \u001b[34mtibble \u001b[39m 3.1.7     \u001b[32m✔\u001b[39m \u001b[34mdplyr  \u001b[39m 1.0.9\n",
      "\u001b[32m✔\u001b[39m \u001b[34mtidyr  \u001b[39m 1.2.0     \u001b[32m✔\u001b[39m \u001b[34mstringr\u001b[39m 1.4.0\n",
      "\u001b[32m✔\u001b[39m \u001b[34mreadr  \u001b[39m 2.1.2     \u001b[32m✔\u001b[39m \u001b[34mforcats\u001b[39m 0.5.1\n",
      "\n",
      "── \u001b[1mConflicts\u001b[22m ────────────────────────────────────────── tidyverse_conflicts() ──\n",
      "\u001b[31m✖\u001b[39m \u001b[34mdplyr\u001b[39m::\u001b[32mfilter()\u001b[39m masks \u001b[34mstats\u001b[39m::filter()\n",
      "\u001b[31m✖\u001b[39m \u001b[34mdplyr\u001b[39m::\u001b[32mlag()\u001b[39m    masks \u001b[34mstats\u001b[39m::lag()\n",
      "\n",
      "── \u001b[1mAttaching packages\u001b[22m ────────────────────────────────────── tidymodels 1.0.0 ──\n",
      "\n",
      "\u001b[32m✔\u001b[39m \u001b[34mbroom       \u001b[39m 1.0.0     \u001b[32m✔\u001b[39m \u001b[34mrsample     \u001b[39m 1.0.0\n",
      "\u001b[32m✔\u001b[39m \u001b[34mdials       \u001b[39m 1.0.0     \u001b[32m✔\u001b[39m \u001b[34mtune        \u001b[39m 1.0.0\n",
      "\u001b[32m✔\u001b[39m \u001b[34minfer       \u001b[39m 1.0.2     \u001b[32m✔\u001b[39m \u001b[34mworkflows   \u001b[39m 1.0.0\n",
      "\u001b[32m✔\u001b[39m \u001b[34mmodeldata   \u001b[39m 1.0.0     \u001b[32m✔\u001b[39m \u001b[34mworkflowsets\u001b[39m 1.0.0\n",
      "\u001b[32m✔\u001b[39m \u001b[34mparsnip     \u001b[39m 1.0.0     \u001b[32m✔\u001b[39m \u001b[34myardstick   \u001b[39m 1.0.0\n",
      "\u001b[32m✔\u001b[39m \u001b[34mrecipes     \u001b[39m 1.0.1     \n",
      "\n",
      "── \u001b[1mConflicts\u001b[22m ───────────────────────────────────────── tidymodels_conflicts() ──\n",
      "\u001b[31m✖\u001b[39m \u001b[34mscales\u001b[39m::\u001b[32mdiscard()\u001b[39m masks \u001b[34mpurrr\u001b[39m::discard()\n",
      "\u001b[31m✖\u001b[39m \u001b[34mdplyr\u001b[39m::\u001b[32mfilter()\u001b[39m   masks \u001b[34mstats\u001b[39m::filter()\n",
      "\u001b[31m✖\u001b[39m \u001b[34mrecipes\u001b[39m::\u001b[32mfixed()\u001b[39m  masks \u001b[34mstringr\u001b[39m::fixed()\n",
      "\u001b[31m✖\u001b[39m \u001b[34mdplyr\u001b[39m::\u001b[32mlag()\u001b[39m      masks \u001b[34mstats\u001b[39m::lag()\n",
      "\u001b[31m✖\u001b[39m \u001b[34myardstick\u001b[39m::\u001b[32mspec()\u001b[39m masks \u001b[34mreadr\u001b[39m::spec()\n",
      "\u001b[31m✖\u001b[39m \u001b[34mrecipes\u001b[39m::\u001b[32mstep()\u001b[39m   masks \u001b[34mstats\u001b[39m::step()\n",
      "\u001b[34m•\u001b[39m Learn how to get started at \u001b[32mhttps://www.tidymodels.org/start/\u001b[39m\n",
      "\n",
      "Warning message in file(filename, \"r\", encoding = encoding):\n",
      "“cannot open file 'tests.R': No such file or directory”\n"
     ]
    },
    {
     "ename": "ERROR",
     "evalue": "Error in file(filename, \"r\", encoding = encoding): cannot open the connection\n",
     "output_type": "error",
     "traceback": [
      "Error in file(filename, \"r\", encoding = encoding): cannot open the connection\nTraceback:\n",
      "1. source(\"tests.R\")",
      "2. file(filename, \"r\", encoding = encoding)"
     ]
    }
   ],
   "source": [
    "# Setup\n",
    "\n",
    "library(tidyverse)\n",
    "library(repr)\n",
    "library(tidymodels)\n",
    "options(repr.matrix.max.rows = 6)\n",
    "source(\"tests.R\")\n",
    "source('cleanup.R')"
   ]
  },
  {
   "cell_type": "markdown",
   "id": "b43404ab-4a2c-4cee-ab59-73243328eed1",
   "metadata": {},
   "source": [
    "First, load the data from the web."
   ]
  },
  {
   "cell_type": "code",
   "execution_count": 29,
   "id": "80b62a2d-78af-4969-9fc9-b21f021450fa",
   "metadata": {},
   "outputs": [
    {
     "name": "stderr",
     "output_type": "stream",
     "text": [
      "\u001b[1m\u001b[22mNew names:\n",
      "\u001b[36m•\u001b[39m `` -> `...1`\n",
      "\u001b[1mRows: \u001b[22m\u001b[34m500\u001b[39m \u001b[1mColumns: \u001b[22m\u001b[34m38\u001b[39m\n",
      "\u001b[36m──\u001b[39m \u001b[1mColumn specification\u001b[22m \u001b[36m────────────────────────────────────────────────────────\u001b[39m\n",
      "\u001b[1mDelimiter:\u001b[22m \",\"\n",
      "\u001b[31mchr\u001b[39m (25): Age, Country, Plays, Wikipedia, Current Rank, Best Rank, Name, Bac...\n",
      "\u001b[32mdbl\u001b[39m (13): ...1, Turned Pro, Seasons, Titles, Best Season, Retired, Masters, ...\n",
      "\n",
      "\u001b[36mℹ\u001b[39m Use `spec()` to retrieve the full column specification for this data.\n",
      "\u001b[36mℹ\u001b[39m Specify the column types or set `show_col_types = FALSE` to quiet this message.\n"
     ]
    },
    {
     "data": {
      "text/html": [
       "<table class=\"dataframe\">\n",
       "<caption>A tibble: 113 × 10</caption>\n",
       "<thead>\n",
       "\t<tr><th scope=col>Age</th><th scope=col>Country</th><th scope=col>Plays</th><th scope=col>Current.Rank</th><th scope=col>Best.Rank</th><th scope=col>Name</th><th scope=col>Backhand</th><th scope=col>Height</th><th scope=col>Favorite.Surface</th><th scope=col>Seasons</th></tr>\n",
       "\t<tr><th scope=col>&lt;chr&gt;</th><th scope=col>&lt;chr&gt;</th><th scope=col>&lt;chr&gt;</th><th scope=col>&lt;chr&gt;</th><th scope=col>&lt;chr&gt;</th><th scope=col>&lt;chr&gt;</th><th scope=col>&lt;chr&gt;</th><th scope=col>&lt;chr&gt;</th><th scope=col>&lt;chr&gt;</th><th scope=col>&lt;dbl&gt;</th></tr>\n",
       "</thead>\n",
       "<tbody>\n",
       "\t<tr><td>32 (03-11-1987)</td><td>Slovakia </td><td>Right-handed</td><td>178 (280)</td><td>44 (14-01-2013)</td><td>Lukas Lacko          </td><td>Two-handed</td><td>185 cm</td><td>Fast (H, G) 40%</td><td>14</td></tr>\n",
       "\t<tr><td>27 (21-10-1992)</td><td>Australia</td><td>Right-handed</td><td>183 (273)</td><td>17 (11-01-2016)</td><td>Bernard Tomic        </td><td>Two-handed</td><td>193 cm</td><td>Fast (H, G) 36%</td><td>11</td></tr>\n",
       "\t<tr><td>31 (23-09-1988)</td><td>Argentina</td><td>Right-handed</td><td>121 (460)</td><td>3 (13-08-2018) </td><td>Juan Martin Del Potro</td><td>Two-handed</td><td>198 cm</td><td>All-Rounder 5% </td><td>14</td></tr>\n",
       "\t<tr><td>⋮</td><td>⋮</td><td>⋮</td><td>⋮</td><td>⋮</td><td>⋮</td><td>⋮</td><td>⋮</td><td>⋮</td><td>⋮</td></tr>\n",
       "\t<tr><td>29 (27-12-1990)</td><td>Canada </td><td>Right-handed</td><td>35 (1305)</td><td>3 (21-11-2016)</td><td>Milos Raonic    </td><td>Two-handed</td><td>196 cm</td><td>Fast (H, G) 13%</td><td>12</td></tr>\n",
       "\t<tr><td>34 (17-06-1985)</td><td>Cyprus </td><td>Right-handed</td><td>179 (279)</td><td>8 (21-08-2006)</td><td>Marcos Baghdatis</td><td>Two-handed</td><td>183 cm</td><td>Fast (H, G) 26%</td><td>16</td></tr>\n",
       "\t<tr><td>26 (03-09-1993)</td><td>Austria</td><td>Right-handed</td><td>5 (5890) </td><td>4 (06-11-2017)</td><td>Dominic Thiem   </td><td>One-handed</td><td>185 cm</td><td>Clay 41%       </td><td>10</td></tr>\n",
       "</tbody>\n",
       "</table>\n"
      ],
      "text/latex": [
       "A tibble: 113 × 10\n",
       "\\begin{tabular}{llllllllll}\n",
       " Age & Country & Plays & Current.Rank & Best.Rank & Name & Backhand & Height & Favorite.Surface & Seasons\\\\\n",
       " <chr> & <chr> & <chr> & <chr> & <chr> & <chr> & <chr> & <chr> & <chr> & <dbl>\\\\\n",
       "\\hline\n",
       "\t 32 (03-11-1987) & Slovakia  & Right-handed & 178 (280) & 44 (14-01-2013) & Lukas Lacko           & Two-handed & 185 cm & Fast (H, G) 40\\% & 14\\\\\n",
       "\t 27 (21-10-1992) & Australia & Right-handed & 183 (273) & 17 (11-01-2016) & Bernard Tomic         & Two-handed & 193 cm & Fast (H, G) 36\\% & 11\\\\\n",
       "\t 31 (23-09-1988) & Argentina & Right-handed & 121 (460) & 3 (13-08-2018)  & Juan Martin Del Potro & Two-handed & 198 cm & All-Rounder 5\\%  & 14\\\\\n",
       "\t ⋮ & ⋮ & ⋮ & ⋮ & ⋮ & ⋮ & ⋮ & ⋮ & ⋮ & ⋮\\\\\n",
       "\t 29 (27-12-1990) & Canada  & Right-handed & 35 (1305) & 3 (21-11-2016) & Milos Raonic     & Two-handed & 196 cm & Fast (H, G) 13\\% & 12\\\\\n",
       "\t 34 (17-06-1985) & Cyprus  & Right-handed & 179 (279) & 8 (21-08-2006) & Marcos Baghdatis & Two-handed & 183 cm & Fast (H, G) 26\\% & 16\\\\\n",
       "\t 26 (03-09-1993) & Austria & Right-handed & 5 (5890)  & 4 (06-11-2017) & Dominic Thiem    & One-handed & 185 cm & Clay 41\\%        & 10\\\\\n",
       "\\end{tabular}\n"
      ],
      "text/markdown": [
       "\n",
       "A tibble: 113 × 10\n",
       "\n",
       "| Age &lt;chr&gt; | Country &lt;chr&gt; | Plays &lt;chr&gt; | Current.Rank &lt;chr&gt; | Best.Rank &lt;chr&gt; | Name &lt;chr&gt; | Backhand &lt;chr&gt; | Height &lt;chr&gt; | Favorite.Surface &lt;chr&gt; | Seasons &lt;dbl&gt; |\n",
       "|---|---|---|---|---|---|---|---|---|---|\n",
       "| 32 (03-11-1987) | Slovakia  | Right-handed | 178 (280) | 44 (14-01-2013) | Lukas Lacko           | Two-handed | 185 cm | Fast (H, G) 40% | 14 |\n",
       "| 27 (21-10-1992) | Australia | Right-handed | 183 (273) | 17 (11-01-2016) | Bernard Tomic         | Two-handed | 193 cm | Fast (H, G) 36% | 11 |\n",
       "| 31 (23-09-1988) | Argentina | Right-handed | 121 (460) | 3 (13-08-2018)  | Juan Martin Del Potro | Two-handed | 198 cm | All-Rounder 5%  | 14 |\n",
       "| ⋮ | ⋮ | ⋮ | ⋮ | ⋮ | ⋮ | ⋮ | ⋮ | ⋮ | ⋮ |\n",
       "| 29 (27-12-1990) | Canada  | Right-handed | 35 (1305) | 3 (21-11-2016) | Milos Raonic     | Two-handed | 196 cm | Fast (H, G) 13% | 12 |\n",
       "| 34 (17-06-1985) | Cyprus  | Right-handed | 179 (279) | 8 (21-08-2006) | Marcos Baghdatis | Two-handed | 183 cm | Fast (H, G) 26% | 16 |\n",
       "| 26 (03-09-1993) | Austria | Right-handed | 5 (5890)  | 4 (06-11-2017) | Dominic Thiem    | One-handed | 185 cm | Clay 41%        | 10 |\n",
       "\n"
      ],
      "text/plain": [
       "    Age             Country   Plays        Current.Rank Best.Rank      \n",
       "1   32 (03-11-1987) Slovakia  Right-handed 178 (280)    44 (14-01-2013)\n",
       "2   27 (21-10-1992) Australia Right-handed 183 (273)    17 (11-01-2016)\n",
       "3   31 (23-09-1988) Argentina Right-handed 121 (460)    3 (13-08-2018) \n",
       "⋮   ⋮               ⋮         ⋮            ⋮            ⋮              \n",
       "111 29 (27-12-1990) Canada    Right-handed 35 (1305)    3 (21-11-2016) \n",
       "112 34 (17-06-1985) Cyprus    Right-handed 179 (279)    8 (21-08-2006) \n",
       "113 26 (03-09-1993) Austria   Right-handed 5 (5890)     4 (06-11-2017) \n",
       "    Name                  Backhand   Height Favorite.Surface Seasons\n",
       "1   Lukas Lacko           Two-handed 185 cm Fast (H, G) 40%  14     \n",
       "2   Bernard Tomic         Two-handed 193 cm Fast (H, G) 36%  11     \n",
       "3   Juan Martin Del Potro Two-handed 198 cm All-Rounder 5%   14     \n",
       "⋮   ⋮                     ⋮          ⋮      ⋮                ⋮      \n",
       "111 Milos Raonic          Two-handed 196 cm Fast (H, G) 13%  12     \n",
       "112 Marcos Baghdatis      Two-handed 183 cm Fast (H, G) 26%  16     \n",
       "113 Dominic Thiem         One-handed 185 cm Clay 41%         10     "
      ]
     },
     "metadata": {},
     "output_type": "display_data"
    }
   ],
   "source": [
    "url <- \"https://drive.google.com/uc?export=download&id=1_MECmUXZuuILYeEOfonSGqodW6qVdhsS\"\n",
    "tennis <- read_csv(url) \n",
    "colnames(tennis) <- make.names(colnames(tennis))\n",
    "\n",
    "#Select only relevant columns \n",
    "tennis <- select(tennis, Age:Seasons)\n",
    "tennis <- select(tennis, -c(Wikipedia, Prize.Money, Turned.Pro))\n",
    "\n",
    "# Omit any rows with NA (there are still 113 rows left)\n",
    "tennis <- na.omit(tennis) \n",
    "\n",
    "# Remove date string from Age and Best.Rank\n",
    "tennis"
   ]
  }
 ],
 "metadata": {
  "kernelspec": {
   "display_name": "R",
   "language": "R",
   "name": "ir"
  },
  "language_info": {
   "codemirror_mode": "r",
   "file_extension": ".r",
   "mimetype": "text/x-r-source",
   "name": "R",
   "pygments_lexer": "r",
   "version": "4.1.3"
  }
 },
 "nbformat": 4,
 "nbformat_minor": 5
}
