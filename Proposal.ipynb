{
 "cells": [
  {
   "cell_type": "markdown",
   "id": "469aa960-a4ca-4c1a-ad98-129de4a0a2de",
   "metadata": {},
   "source": [
    "# The Characteristics of a Tennis Match Winner\n",
    "\n",
    "### Group 38 Project Proposal\n",
    "\n",
    "#### Introduction\n",
    "Likelihood of winning a game of tennis can be divided into four categories: strategy, technique, physical attributes and preparation, and mental game. While all components contribute to a win, we aim to test the importance of physical attributes and preparation by predicting the current rank of a tennis player based on attributes such as height, age, hand-dominance, seasons active, and favorite surface. To answer this question we will use data from the dataset “player_stats.csv”, which describes the player statistics for the top 500 tennis players, using data on physical attributes such as height, age, and hand dominance, as well as on variables such as seasons active and favorite surface. \n",
    "\n",
    "#### Preliminary exploratory data analysis\n",
    "\n",
    "##### Methods\n",
    "In progress\n",
    "\n",
    "##### Expected outcomes and significance:\n",
    "\n",
    "- What do you expect to find?\n",
    "- What impact could such findings have?\n",
    "- What future questions could this lead to?\n",
    "\n",
    "#### Our Data Analysis:"
   ]
  },
  {
   "cell_type": "code",
   "execution_count": 2,
   "id": "f43c947e-c4e0-40f5-8087-9e0d8e5b51d3",
   "metadata": {},
   "outputs": [
    {
     "name": "stderr",
     "output_type": "stream",
     "text": [
      "── \u001b[1mAttaching packages\u001b[22m ─────────────────────────────────────── tidyverse 1.3.1 ──\n",
      "\n",
      "\u001b[32m✔\u001b[39m \u001b[34mggplot2\u001b[39m 3.3.6     \u001b[32m✔\u001b[39m \u001b[34mpurrr  \u001b[39m 0.3.4\n",
      "\u001b[32m✔\u001b[39m \u001b[34mtibble \u001b[39m 3.1.7     \u001b[32m✔\u001b[39m \u001b[34mdplyr  \u001b[39m 1.0.9\n",
      "\u001b[32m✔\u001b[39m \u001b[34mtidyr  \u001b[39m 1.2.0     \u001b[32m✔\u001b[39m \u001b[34mstringr\u001b[39m 1.4.0\n",
      "\u001b[32m✔\u001b[39m \u001b[34mreadr  \u001b[39m 2.1.2     \u001b[32m✔\u001b[39m \u001b[34mforcats\u001b[39m 0.5.1\n",
      "\n",
      "── \u001b[1mConflicts\u001b[22m ────────────────────────────────────────── tidyverse_conflicts() ──\n",
      "\u001b[31m✖\u001b[39m \u001b[34mdplyr\u001b[39m::\u001b[32mfilter()\u001b[39m masks \u001b[34mstats\u001b[39m::filter()\n",
      "\u001b[31m✖\u001b[39m \u001b[34mdplyr\u001b[39m::\u001b[32mlag()\u001b[39m    masks \u001b[34mstats\u001b[39m::lag()\n",
      "\n",
      "── \u001b[1mAttaching packages\u001b[22m ────────────────────────────────────── tidymodels 1.0.0 ──\n",
      "\n",
      "\u001b[32m✔\u001b[39m \u001b[34mbroom       \u001b[39m 1.0.0     \u001b[32m✔\u001b[39m \u001b[34mrsample     \u001b[39m 1.0.0\n",
      "\u001b[32m✔\u001b[39m \u001b[34mdials       \u001b[39m 1.0.0     \u001b[32m✔\u001b[39m \u001b[34mtune        \u001b[39m 1.0.0\n",
      "\u001b[32m✔\u001b[39m \u001b[34minfer       \u001b[39m 1.0.2     \u001b[32m✔\u001b[39m \u001b[34mworkflows   \u001b[39m 1.0.0\n",
      "\u001b[32m✔\u001b[39m \u001b[34mmodeldata   \u001b[39m 1.0.0     \u001b[32m✔\u001b[39m \u001b[34mworkflowsets\u001b[39m 1.0.0\n",
      "\u001b[32m✔\u001b[39m \u001b[34mparsnip     \u001b[39m 1.0.0     \u001b[32m✔\u001b[39m \u001b[34myardstick   \u001b[39m 1.0.0\n",
      "\u001b[32m✔\u001b[39m \u001b[34mrecipes     \u001b[39m 1.0.1     \n",
      "\n",
      "── \u001b[1mConflicts\u001b[22m ───────────────────────────────────────── tidymodels_conflicts() ──\n",
      "\u001b[31m✖\u001b[39m \u001b[34mscales\u001b[39m::\u001b[32mdiscard()\u001b[39m masks \u001b[34mpurrr\u001b[39m::discard()\n",
      "\u001b[31m✖\u001b[39m \u001b[34mdplyr\u001b[39m::\u001b[32mfilter()\u001b[39m   masks \u001b[34mstats\u001b[39m::filter()\n",
      "\u001b[31m✖\u001b[39m \u001b[34mrecipes\u001b[39m::\u001b[32mfixed()\u001b[39m  masks \u001b[34mstringr\u001b[39m::fixed()\n",
      "\u001b[31m✖\u001b[39m \u001b[34mdplyr\u001b[39m::\u001b[32mlag()\u001b[39m      masks \u001b[34mstats\u001b[39m::lag()\n",
      "\u001b[31m✖\u001b[39m \u001b[34myardstick\u001b[39m::\u001b[32mspec()\u001b[39m masks \u001b[34mreadr\u001b[39m::spec()\n",
      "\u001b[31m✖\u001b[39m \u001b[34mrecipes\u001b[39m::\u001b[32mstep()\u001b[39m   masks \u001b[34mstats\u001b[39m::step()\n",
      "\u001b[34m•\u001b[39m Use suppressPackageStartupMessages() to eliminate package startup messages\n",
      "\n",
      "Warning message in file(filename, \"r\", encoding = encoding):\n",
      "“cannot open file 'tests.R': No such file or directory”\n"
     ]
    },
    {
     "ename": "ERROR",
     "evalue": "Error in file(filename, \"r\", encoding = encoding): cannot open the connection\n",
     "output_type": "error",
     "traceback": [
      "Error in file(filename, \"r\", encoding = encoding): cannot open the connection\nTraceback:\n",
      "1. source(\"tests.R\")",
      "2. file(filename, \"r\", encoding = encoding)"
     ]
    }
   ],
   "source": [
    "# Setup\n",
    "\n",
    "library(tidyverse)\n",
    "library(repr)\n",
    "library(tidymodels)\n",
    "options(repr.matrix.max.rows = 6)\n",
    "source(\"tests.R\")\n",
    "source('cleanup.R')"
   ]
  },
  {
   "cell_type": "markdown",
   "id": "b43404ab-4a2c-4cee-ab59-73243328eed1",
   "metadata": {},
   "source": [
    "##### First, we will tidy up our data:"
   ]
  },
  {
   "cell_type": "code",
   "execution_count": 16,
   "id": "80b62a2d-78af-4969-9fc9-b21f021450fa",
   "metadata": {},
   "outputs": [
    {
     "name": "stderr",
     "output_type": "stream",
     "text": [
      "\u001b[1m\u001b[22mNew names:\n",
      "\u001b[36m•\u001b[39m `` -> `...1`\n",
      "\u001b[1mRows: \u001b[22m\u001b[34m500\u001b[39m \u001b[1mColumns: \u001b[22m\u001b[34m38\u001b[39m\n",
      "\u001b[36m──\u001b[39m \u001b[1mColumn specification\u001b[22m \u001b[36m────────────────────────────────────────────────────────\u001b[39m\n",
      "\u001b[1mDelimiter:\u001b[22m \",\"\n",
      "\u001b[31mchr\u001b[39m (25): Age, Country, Plays, Wikipedia, Current Rank, Best Rank, Name, Bac...\n",
      "\u001b[32mdbl\u001b[39m (13): ...1, Turned Pro, Seasons, Titles, Best Season, Retired, Masters, ...\n",
      "\n",
      "\u001b[36mℹ\u001b[39m Use `spec()` to retrieve the full column specification for this data.\n",
      "\u001b[36mℹ\u001b[39m Specify the column types or set `show_col_types = FALSE` to quiet this message.\n"
     ]
    },
    {
     "data": {
      "text/html": [
       "<table class=\"dataframe\">\n",
       "<caption>A tibble: 115 × 4</caption>\n",
       "<thead>\n",
       "\t<tr><th scope=col>Age</th><th scope=col>Plays</th><th scope=col>Current.Rank</th><th scope=col>Height</th></tr>\n",
       "\t<tr><th scope=col>&lt;chr&gt;</th><th scope=col>&lt;chr&gt;</th><th scope=col>&lt;chr&gt;</th><th scope=col>&lt;chr&gt;</th></tr>\n",
       "</thead>\n",
       "<tbody>\n",
       "\t<tr><td>32 (03-11-1987)</td><td>Right-handed</td><td>178 (280)</td><td>185 cm</td></tr>\n",
       "\t<tr><td>27 (21-10-1992)</td><td>Right-handed</td><td>183 (273)</td><td>193 cm</td></tr>\n",
       "\t<tr><td>31 (23-09-1988)</td><td>Right-handed</td><td>121 (460)</td><td>198 cm</td></tr>\n",
       "\t<tr><td>⋮</td><td>⋮</td><td>⋮</td><td>⋮</td></tr>\n",
       "\t<tr><td>29 (27-12-1990)</td><td>Right-handed</td><td>35 (1305)</td><td>196 cm</td></tr>\n",
       "\t<tr><td>34 (17-06-1985)</td><td>Right-handed</td><td>179 (279)</td><td>183 cm</td></tr>\n",
       "\t<tr><td>26 (03-09-1993)</td><td>Right-handed</td><td>5 (5890) </td><td>185 cm</td></tr>\n",
       "</tbody>\n",
       "</table>\n"
      ],
      "text/latex": [
       "A tibble: 115 × 4\n",
       "\\begin{tabular}{llll}\n",
       " Age & Plays & Current.Rank & Height\\\\\n",
       " <chr> & <chr> & <chr> & <chr>\\\\\n",
       "\\hline\n",
       "\t 32 (03-11-1987) & Right-handed & 178 (280) & 185 cm\\\\\n",
       "\t 27 (21-10-1992) & Right-handed & 183 (273) & 193 cm\\\\\n",
       "\t 31 (23-09-1988) & Right-handed & 121 (460) & 198 cm\\\\\n",
       "\t ⋮ & ⋮ & ⋮ & ⋮\\\\\n",
       "\t 29 (27-12-1990) & Right-handed & 35 (1305) & 196 cm\\\\\n",
       "\t 34 (17-06-1985) & Right-handed & 179 (279) & 183 cm\\\\\n",
       "\t 26 (03-09-1993) & Right-handed & 5 (5890)  & 185 cm\\\\\n",
       "\\end{tabular}\n"
      ],
      "text/markdown": [
       "\n",
       "A tibble: 115 × 4\n",
       "\n",
       "| Age &lt;chr&gt; | Plays &lt;chr&gt; | Current.Rank &lt;chr&gt; | Height &lt;chr&gt; |\n",
       "|---|---|---|---|\n",
       "| 32 (03-11-1987) | Right-handed | 178 (280) | 185 cm |\n",
       "| 27 (21-10-1992) | Right-handed | 183 (273) | 193 cm |\n",
       "| 31 (23-09-1988) | Right-handed | 121 (460) | 198 cm |\n",
       "| ⋮ | ⋮ | ⋮ | ⋮ |\n",
       "| 29 (27-12-1990) | Right-handed | 35 (1305) | 196 cm |\n",
       "| 34 (17-06-1985) | Right-handed | 179 (279) | 183 cm |\n",
       "| 26 (03-09-1993) | Right-handed | 5 (5890)  | 185 cm |\n",
       "\n"
      ],
      "text/plain": [
       "    Age             Plays        Current.Rank Height\n",
       "1   32 (03-11-1987) Right-handed 178 (280)    185 cm\n",
       "2   27 (21-10-1992) Right-handed 183 (273)    193 cm\n",
       "3   31 (23-09-1988) Right-handed 121 (460)    198 cm\n",
       "⋮   ⋮               ⋮            ⋮            ⋮     \n",
       "113 29 (27-12-1990) Right-handed 35 (1305)    196 cm\n",
       "114 34 (17-06-1985) Right-handed 179 (279)    183 cm\n",
       "115 26 (03-09-1993) Right-handed 5 (5890)     185 cm"
      ]
     },
     "metadata": {},
     "output_type": "display_data"
    }
   ],
   "source": [
    "# Load the data from the web\n",
    "url <- \"https://drive.google.com/uc?export=download&id=1_MECmUXZuuILYeEOfonSGqodW6qVdhsS\"\n",
    "tennis <- read_csv(url) \n",
    "\n",
    "# Fix column names\n",
    "colnames(tennis) <- make.names(colnames(tennis))\n",
    "\n",
    "# Select only relevant columns to our study\n",
    "tennis <- select(tennis, Age:Seasons)\n",
    "tennis <- select(tennis, c(Age, Plays, Current.Rank, Height))\n",
    "\n",
    "# Omit any rows with NA (there are still 113 rows left)\n",
    "tennis <- na.omit(tennis) \n",
    "\n",
    "tennis"
   ]
  },
  {
   "cell_type": "code",
   "execution_count": 13,
   "id": "31bf512d-190e-45c4-a25e-391b3f5918dc",
   "metadata": {},
   "outputs": [
    {
     "name": "stderr",
     "output_type": "stream",
     "text": [
      "Warning message:\n",
      "“Expected 2 pieces. Missing pieces filled with `NA` in 115 rows [1, 2, 3, 4, 5, 6, 7, 8, 9, 10, 11, 12, 13, 14, 15, 16, 17, 18, 19, 20, ...].”\n",
      "Warning message:\n",
      "“Expected 2 pieces. Missing pieces filled with `NA` in 115 rows [1, 2, 3, 4, 5, 6, 7, 8, 9, 10, 11, 12, 13, 14, 15, 16, 17, 18, 19, 20, ...].”\n",
      "Warning message:\n",
      "“Expected 2 pieces. Missing pieces filled with `NA` in 115 rows [1, 2, 3, 4, 5, 6, 7, 8, 9, 10, 11, 12, 13, 14, 15, 16, 17, 18, 19, 20, ...].”\n"
     ]
    },
    {
     "data": {
      "text/html": [
       "<table class=\"dataframe\">\n",
       "<caption>A tibble: 115 × 4</caption>\n",
       "<thead>\n",
       "\t<tr><th scope=col>Age</th><th scope=col>Plays</th><th scope=col>Current.Rank</th><th scope=col>Height</th></tr>\n",
       "\t<tr><th scope=col>&lt;int&gt;</th><th scope=col>&lt;chr&gt;</th><th scope=col>&lt;int&gt;</th><th scope=col>&lt;int&gt;</th></tr>\n",
       "</thead>\n",
       "<tbody>\n",
       "\t<tr><td>32</td><td>Right-handed</td><td>178</td><td>185</td></tr>\n",
       "\t<tr><td>27</td><td>Right-handed</td><td>183</td><td>193</td></tr>\n",
       "\t<tr><td>31</td><td>Right-handed</td><td>121</td><td>198</td></tr>\n",
       "\t<tr><td>⋮</td><td>⋮</td><td>⋮</td><td>⋮</td></tr>\n",
       "\t<tr><td>29</td><td>Right-handed</td><td> 35</td><td>196</td></tr>\n",
       "\t<tr><td>34</td><td>Right-handed</td><td>179</td><td>183</td></tr>\n",
       "\t<tr><td>26</td><td>Right-handed</td><td>  5</td><td>185</td></tr>\n",
       "</tbody>\n",
       "</table>\n"
      ],
      "text/latex": [
       "A tibble: 115 × 4\n",
       "\\begin{tabular}{llll}\n",
       " Age & Plays & Current.Rank & Height\\\\\n",
       " <int> & <chr> & <int> & <int>\\\\\n",
       "\\hline\n",
       "\t 32 & Right-handed & 178 & 185\\\\\n",
       "\t 27 & Right-handed & 183 & 193\\\\\n",
       "\t 31 & Right-handed & 121 & 198\\\\\n",
       "\t ⋮ & ⋮ & ⋮ & ⋮\\\\\n",
       "\t 29 & Right-handed &  35 & 196\\\\\n",
       "\t 34 & Right-handed & 179 & 183\\\\\n",
       "\t 26 & Right-handed &   5 & 185\\\\\n",
       "\\end{tabular}\n"
      ],
      "text/markdown": [
       "\n",
       "A tibble: 115 × 4\n",
       "\n",
       "| Age &lt;int&gt; | Plays &lt;chr&gt; | Current.Rank &lt;int&gt; | Height &lt;int&gt; |\n",
       "|---|---|---|---|\n",
       "| 32 | Right-handed | 178 | 185 |\n",
       "| 27 | Right-handed | 183 | 193 |\n",
       "| 31 | Right-handed | 121 | 198 |\n",
       "| ⋮ | ⋮ | ⋮ | ⋮ |\n",
       "| 29 | Right-handed |  35 | 196 |\n",
       "| 34 | Right-handed | 179 | 183 |\n",
       "| 26 | Right-handed |   5 | 185 |\n",
       "\n"
      ],
      "text/plain": [
       "    Age Plays        Current.Rank Height\n",
       "1   32  Right-handed 178          185   \n",
       "2   27  Right-handed 183          193   \n",
       "3   31  Right-handed 121          198   \n",
       "⋮   ⋮   ⋮            ⋮            ⋮     \n",
       "113 29  Right-handed  35          196   \n",
       "114 34  Right-handed 179          183   \n",
       "115 26  Right-handed   5          185   "
      ]
     },
     "metadata": {},
     "output_type": "display_data"
    }
   ],
   "source": [
    "# Now we will tidy up our data further by getting rid of unnecessary information in certain columns (ex. dates, \"cm\", extra number next to rank)\n",
    "\n",
    "# Separate unnecessary information from their original column into a new column\n",
    "tennis <- separate(tennis, col = Age, into = c(\"Age\", \"x\"), sep = \" \", convert = TRUE) |> \n",
    "          separate(col = Current.Rank, into = c(\"Current.Rank\", \"y\"), sep = \" \", convert = TRUE) |>\n",
    "          separate(col = Height, into = c(\"Height\", \"z\"), sep = \" \", convert = TRUE) \n",
    "\n",
    "# Delete unnecessary columns\n",
    "tennis <- select(tennis, -c(x, y, z))\n",
    "\n",
    "tennis"
   ]
  }
 ],
 "metadata": {
  "kernelspec": {
   "display_name": "R",
   "language": "R",
   "name": "ir"
  },
  "language_info": {
   "codemirror_mode": "r",
   "file_extension": ".r",
   "mimetype": "text/x-r-source",
   "name": "R",
   "pygments_lexer": "r",
   "version": "4.1.3"
  }
 },
 "nbformat": 4,
 "nbformat_minor": 5
}
