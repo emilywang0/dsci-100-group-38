{
 "cells": [
  {
   "cell_type": "markdown",
   "id": "469aa960-a4ca-4c1a-ad98-129de4a0a2de",
   "metadata": {},
   "source": [
    "# The Characteristics of a Tennis Match Winner\n",
    "\n",
    "### Group 38 Project Proposal\n",
    "\n",
    "#### Introduction\n",
    "Likelihood of winning a game of tennis can be divided into four categories: strategy, technique, physical conditions, and mental game. While all components contribute to a win, we aim to test the importance of physical conditions by predicting the rank of a tennis player based on attributes such as height, age, and hand-dominance. To answer this question we will use data from the dataset “player_stats.csv”, which describes the player statistics for the top 500 tennis players worldwide.\n",
    "\n",
    "#### Preliminary exploratory data analysis\n",
    "\n",
    "##### Methods\n",
    "The columns we will be using for this project are “Height”, “Plays” (hand-dominance), and “Age” to predict \"Current Rank\". We chose to use \"Current Rank\" rather than \"Best Rank\" because it is reflective of their current physical conditions and skill level as well as to avoid duplicate rankings in the dataset. We will be using a scatter plot to visualise the results by plotting players’ heights, hand-dominance, and age (on the x-axis) with their rankings (on the y-axis). There will be 3 separate scatter plots, one for each respective variable. We will be combining the results from the graphs into a linear regression model to answer our predictive question. \n",
    "\n",
    "##### Expected outcomes and significance:\n",
    "\n",
    "- What do you expect to find?\n",
    "- What impact could such findings have?\n",
    "- What future questions could this lead to?\n",
    "\n",
    "#### Preliminary exploratory data analysis:"
   ]
  },
  {
   "cell_type": "code",
   "execution_count": 1,
   "id": "f43c947e-c4e0-40f5-8087-9e0d8e5b51d3",
   "metadata": {},
   "outputs": [
    {
     "name": "stderr",
     "output_type": "stream",
     "text": [
      "── \u001b[1mAttaching packages\u001b[22m ─────────────────────────────────────── tidyverse 1.3.1 ──\n",
      "\n",
      "\u001b[32m✔\u001b[39m \u001b[34mggplot2\u001b[39m 3.3.6     \u001b[32m✔\u001b[39m \u001b[34mpurrr  \u001b[39m 0.3.4\n",
      "\u001b[32m✔\u001b[39m \u001b[34mtibble \u001b[39m 3.1.7     \u001b[32m✔\u001b[39m \u001b[34mdplyr  \u001b[39m 1.0.9\n",
      "\u001b[32m✔\u001b[39m \u001b[34mtidyr  \u001b[39m 1.2.0     \u001b[32m✔\u001b[39m \u001b[34mstringr\u001b[39m 1.4.0\n",
      "\u001b[32m✔\u001b[39m \u001b[34mreadr  \u001b[39m 2.1.2     \u001b[32m✔\u001b[39m \u001b[34mforcats\u001b[39m 0.5.1\n",
      "\n",
      "── \u001b[1mConflicts\u001b[22m ────────────────────────────────────────── tidyverse_conflicts() ──\n",
      "\u001b[31m✖\u001b[39m \u001b[34mdplyr\u001b[39m::\u001b[32mfilter()\u001b[39m masks \u001b[34mstats\u001b[39m::filter()\n",
      "\u001b[31m✖\u001b[39m \u001b[34mdplyr\u001b[39m::\u001b[32mlag()\u001b[39m    masks \u001b[34mstats\u001b[39m::lag()\n",
      "\n",
      "── \u001b[1mAttaching packages\u001b[22m ────────────────────────────────────── tidymodels 1.0.0 ──\n",
      "\n",
      "\u001b[32m✔\u001b[39m \u001b[34mbroom       \u001b[39m 1.0.0     \u001b[32m✔\u001b[39m \u001b[34mrsample     \u001b[39m 1.0.0\n",
      "\u001b[32m✔\u001b[39m \u001b[34mdials       \u001b[39m 1.0.0     \u001b[32m✔\u001b[39m \u001b[34mtune        \u001b[39m 1.0.0\n",
      "\u001b[32m✔\u001b[39m \u001b[34minfer       \u001b[39m 1.0.2     \u001b[32m✔\u001b[39m \u001b[34mworkflows   \u001b[39m 1.0.0\n",
      "\u001b[32m✔\u001b[39m \u001b[34mmodeldata   \u001b[39m 1.0.0     \u001b[32m✔\u001b[39m \u001b[34mworkflowsets\u001b[39m 1.0.0\n",
      "\u001b[32m✔\u001b[39m \u001b[34mparsnip     \u001b[39m 1.0.0     \u001b[32m✔\u001b[39m \u001b[34myardstick   \u001b[39m 1.0.0\n",
      "\u001b[32m✔\u001b[39m \u001b[34mrecipes     \u001b[39m 1.0.1     \n",
      "\n",
      "── \u001b[1mConflicts\u001b[22m ───────────────────────────────────────── tidymodels_conflicts() ──\n",
      "\u001b[31m✖\u001b[39m \u001b[34mscales\u001b[39m::\u001b[32mdiscard()\u001b[39m masks \u001b[34mpurrr\u001b[39m::discard()\n",
      "\u001b[31m✖\u001b[39m \u001b[34mdplyr\u001b[39m::\u001b[32mfilter()\u001b[39m   masks \u001b[34mstats\u001b[39m::filter()\n",
      "\u001b[31m✖\u001b[39m \u001b[34mrecipes\u001b[39m::\u001b[32mfixed()\u001b[39m  masks \u001b[34mstringr\u001b[39m::fixed()\n",
      "\u001b[31m✖\u001b[39m \u001b[34mdplyr\u001b[39m::\u001b[32mlag()\u001b[39m      masks \u001b[34mstats\u001b[39m::lag()\n",
      "\u001b[31m✖\u001b[39m \u001b[34myardstick\u001b[39m::\u001b[32mspec()\u001b[39m masks \u001b[34mreadr\u001b[39m::spec()\n",
      "\u001b[31m✖\u001b[39m \u001b[34mrecipes\u001b[39m::\u001b[32mstep()\u001b[39m   masks \u001b[34mstats\u001b[39m::step()\n",
      "\u001b[34m•\u001b[39m Use \u001b[32mtidymodels_prefer()\u001b[39m to resolve common conflicts.\n",
      "\n",
      "Registered S3 method overwritten by 'GGally':\n",
      "  method from   \n",
      "  +.gg   ggplot2\n",
      "\n"
     ]
    },
    {
     "ename": "ERROR",
     "evalue": "Error in library(themis): there is no package called ‘themis’\n",
     "output_type": "error",
     "traceback": [
      "Error in library(themis): there is no package called ‘themis’\nTraceback:\n",
      "1. library(themis)"
     ]
    }
   ],
   "source": [
    "# Setup\n",
    "set.seed(3)\n",
    "\n",
    "library(tidyverse)\n",
    "library(tidymodels)\n",
    "library(repr)\n",
    "library(cowplot)\n",
    "library(GGally)\n",
    "library(ISLR)\n",
    "library(themis)\n",
    "options(repr.matrix.max.rows = 6)"
   ]
  },
  {
   "cell_type": "markdown",
   "id": "b43404ab-4a2c-4cee-ab59-73243328eed1",
   "metadata": {},
   "source": [
    "First, we will tidy up our data:"
   ]
  },
  {
   "cell_type": "code",
   "execution_count": 87,
   "id": "80b62a2d-78af-4969-9fc9-b21f021450fa",
   "metadata": {},
   "outputs": [
    {
     "name": "stderr",
     "output_type": "stream",
     "text": [
      "\u001b[1m\u001b[22mNew names:\n",
      "\u001b[36m•\u001b[39m `` -> `...1`\n",
      "\u001b[1mRows: \u001b[22m\u001b[34m500\u001b[39m \u001b[1mColumns: \u001b[22m\u001b[34m38\u001b[39m\n",
      "\u001b[36m──\u001b[39m \u001b[1mColumn specification\u001b[22m \u001b[36m────────────────────────────────────────────────────────\u001b[39m\n",
      "\u001b[1mDelimiter:\u001b[22m \",\"\n",
      "\u001b[31mchr\u001b[39m (25): Age, Country, Plays, Wikipedia, Current Rank, Best Rank, Name, Bac...\n",
      "\u001b[32mdbl\u001b[39m (13): ...1, Turned Pro, Seasons, Titles, Best Season, Retired, Masters, ...\n",
      "\n",
      "\u001b[36mℹ\u001b[39m Use `spec()` to retrieve the full column specification for this data.\n",
      "\u001b[36mℹ\u001b[39m Specify the column types or set `show_col_types = FALSE` to quiet this message.\n"
     ]
    },
    {
     "data": {
      "text/html": [
       "<table class=\"dataframe\">\n",
       "<caption>A tibble: 6 × 4</caption>\n",
       "<thead>\n",
       "\t<tr><th scope=col>Age</th><th scope=col>Plays</th><th scope=col>Current.Rank</th><th scope=col>Height</th></tr>\n",
       "\t<tr><th scope=col>&lt;chr&gt;</th><th scope=col>&lt;chr&gt;</th><th scope=col>&lt;chr&gt;</th><th scope=col>&lt;chr&gt;</th></tr>\n",
       "</thead>\n",
       "<tbody>\n",
       "\t<tr><td>26 (25-04-1993)</td><td>Right-handed</td><td>378 (97) </td><td>NA    </td></tr>\n",
       "\t<tr><td>18 (22-12-2001)</td><td>Left-handed </td><td>326 (119)</td><td>NA    </td></tr>\n",
       "\t<tr><td>32 (03-11-1987)</td><td>Right-handed</td><td>178 (280)</td><td>185 cm</td></tr>\n",
       "\t<tr><td>21 (29-05-1998)</td><td>Right-handed</td><td>236 (199)</td><td>NA    </td></tr>\n",
       "\t<tr><td>27 (21-10-1992)</td><td>Right-handed</td><td>183 (273)</td><td>193 cm</td></tr>\n",
       "\t<tr><td>22 (11-02-1997)</td><td>Right-handed</td><td>31 (1398)</td><td>NA    </td></tr>\n",
       "</tbody>\n",
       "</table>\n"
      ],
      "text/latex": [
       "A tibble: 6 × 4\n",
       "\\begin{tabular}{llll}\n",
       " Age & Plays & Current.Rank & Height\\\\\n",
       " <chr> & <chr> & <chr> & <chr>\\\\\n",
       "\\hline\n",
       "\t 26 (25-04-1993) & Right-handed & 378 (97)  & NA    \\\\\n",
       "\t 18 (22-12-2001) & Left-handed  & 326 (119) & NA    \\\\\n",
       "\t 32 (03-11-1987) & Right-handed & 178 (280) & 185 cm\\\\\n",
       "\t 21 (29-05-1998) & Right-handed & 236 (199) & NA    \\\\\n",
       "\t 27 (21-10-1992) & Right-handed & 183 (273) & 193 cm\\\\\n",
       "\t 22 (11-02-1997) & Right-handed & 31 (1398) & NA    \\\\\n",
       "\\end{tabular}\n"
      ],
      "text/markdown": [
       "\n",
       "A tibble: 6 × 4\n",
       "\n",
       "| Age &lt;chr&gt; | Plays &lt;chr&gt; | Current.Rank &lt;chr&gt; | Height &lt;chr&gt; |\n",
       "|---|---|---|---|\n",
       "| 26 (25-04-1993) | Right-handed | 378 (97)  | NA     |\n",
       "| 18 (22-12-2001) | Left-handed  | 326 (119) | NA     |\n",
       "| 32 (03-11-1987) | Right-handed | 178 (280) | 185 cm |\n",
       "| 21 (29-05-1998) | Right-handed | 236 (199) | NA     |\n",
       "| 27 (21-10-1992) | Right-handed | 183 (273) | 193 cm |\n",
       "| 22 (11-02-1997) | Right-handed | 31 (1398) | NA     |\n",
       "\n"
      ],
      "text/plain": [
       "  Age             Plays        Current.Rank Height\n",
       "1 26 (25-04-1993) Right-handed 378 (97)     NA    \n",
       "2 18 (22-12-2001) Left-handed  326 (119)    NA    \n",
       "3 32 (03-11-1987) Right-handed 178 (280)    185 cm\n",
       "4 21 (29-05-1998) Right-handed 236 (199)    NA    \n",
       "5 27 (21-10-1992) Right-handed 183 (273)    193 cm\n",
       "6 22 (11-02-1997) Right-handed 31 (1398)    NA    "
      ]
     },
     "metadata": {},
     "output_type": "display_data"
    }
   ],
   "source": [
    "# Load the data from the web\n",
    "url <- \"https://drive.google.com/uc?export=download&id=1_MECmUXZuuILYeEOfonSGqodW6qVdhsS\"\n",
    "tennis <- read_csv(url) \n",
    "\n",
    "# Fix column names\n",
    "colnames(tennis) <- make.names(colnames(tennis))\n",
    "\n",
    "# Select only relevant columns to our study.\n",
    "\n",
    "tennis <- select(tennis, c(Age, Plays, Current.Rank, Height))\n",
    "\n",
    "head(tennis)"
   ]
  },
  {
   "cell_type": "code",
   "execution_count": 86,
   "id": "31bf512d-190e-45c4-a25e-391b3f5918dc",
   "metadata": {},
   "outputs": [
    {
     "data": {
      "text/html": [
       "<table class=\"dataframe\">\n",
       "<caption>A tibble: 6 × 4</caption>\n",
       "<thead>\n",
       "\t<tr><th scope=col>Age</th><th scope=col>Plays</th><th scope=col>Current.Rank</th><th scope=col>Height</th></tr>\n",
       "\t<tr><th scope=col>&lt;int&gt;</th><th scope=col>&lt;chr&gt;</th><th scope=col>&lt;int&gt;</th><th scope=col>&lt;int&gt;</th></tr>\n",
       "</thead>\n",
       "<tbody>\n",
       "\t<tr><td>26</td><td>Right-handed</td><td>378</td><td> NA</td></tr>\n",
       "\t<tr><td>18</td><td>Left-handed </td><td>326</td><td> NA</td></tr>\n",
       "\t<tr><td>32</td><td>Right-handed</td><td>178</td><td>185</td></tr>\n",
       "\t<tr><td>21</td><td>Right-handed</td><td>236</td><td> NA</td></tr>\n",
       "\t<tr><td>27</td><td>Right-handed</td><td>183</td><td>193</td></tr>\n",
       "\t<tr><td>22</td><td>Right-handed</td><td> 31</td><td> NA</td></tr>\n",
       "</tbody>\n",
       "</table>\n"
      ],
      "text/latex": [
       "A tibble: 6 × 4\n",
       "\\begin{tabular}{llll}\n",
       " Age & Plays & Current.Rank & Height\\\\\n",
       " <int> & <chr> & <int> & <int>\\\\\n",
       "\\hline\n",
       "\t 26 & Right-handed & 378 &  NA\\\\\n",
       "\t 18 & Left-handed  & 326 &  NA\\\\\n",
       "\t 32 & Right-handed & 178 & 185\\\\\n",
       "\t 21 & Right-handed & 236 &  NA\\\\\n",
       "\t 27 & Right-handed & 183 & 193\\\\\n",
       "\t 22 & Right-handed &  31 &  NA\\\\\n",
       "\\end{tabular}\n"
      ],
      "text/markdown": [
       "\n",
       "A tibble: 6 × 4\n",
       "\n",
       "| Age &lt;int&gt; | Plays &lt;chr&gt; | Current.Rank &lt;int&gt; | Height &lt;int&gt; |\n",
       "|---|---|---|---|\n",
       "| 26 | Right-handed | 378 |  NA |\n",
       "| 18 | Left-handed  | 326 |  NA |\n",
       "| 32 | Right-handed | 178 | 185 |\n",
       "| 21 | Right-handed | 236 |  NA |\n",
       "| 27 | Right-handed | 183 | 193 |\n",
       "| 22 | Right-handed |  31 |  NA |\n",
       "\n"
      ],
      "text/plain": [
       "  Age Plays        Current.Rank Height\n",
       "1 26  Right-handed 378           NA   \n",
       "2 18  Left-handed  326           NA   \n",
       "3 32  Right-handed 178          185   \n",
       "4 21  Right-handed 236           NA   \n",
       "5 27  Right-handed 183          193   \n",
       "6 22  Right-handed  31           NA   "
      ]
     },
     "metadata": {},
     "output_type": "display_data"
    }
   ],
   "source": [
    "# Now we will tidy up our data further by getting rid of unnecessary information in certain columns (ex. dates, \"cm\", extra number next to rank)\n",
    "\n",
    "# Separate unnecessary information from their original column into a new column\n",
    "tennis <- separate(tennis, col = Age, into = c(\"Age\", \"x\"), sep = \" \", convert = TRUE) |> \n",
    "          separate(col = Current.Rank, into = c(\"Current.Rank\", \"y\"), sep = \" \", convert = TRUE) |>\n",
    "          separate(col = Height, into = c(\"Height\", \"z\"), sep = \" \", convert = TRUE) \n",
    "\n",
    "# Delete unnecessary columns\n",
    "tennis <- select(tennis, -c(x, y, z))\n",
    "\n",
    "head(tennis)"
   ]
  },
  {
   "cell_type": "markdown",
   "id": "3c23168d-3992-41b1-8179-6482a178dd76",
   "metadata": {},
   "source": [
    "##### Summary of Training Data\n",
    "Now, we will summarize our training data to report the mean of our numeric predictors (Age and Height), as well as the number of missing observations and total observations"
   ]
  },
  {
   "cell_type": "code",
   "execution_count": 43,
   "id": "e1353d07-4d56-4033-b76f-391cda82bfd8",
   "metadata": {},
   "outputs": [
    {
     "data": {
      "text/plain": [
       "       Mean Age Mean Height Missing Observations Observations\n",
       "Value  25.93678   186.25610            267.00000    349.00000"
      ]
     },
     "metadata": {},
     "output_type": "display_data"
    }
   ],
   "source": [
    "# Split our data into training and testing\n",
    "set.seed(1234) #DO NOT REMOVE\n",
    "tennis_split <- initial_split(tennis, prop = 0.7, strata = Current.Rank) \n",
    "tennis_train <- training(tennis_split) \n",
    "tennis_test <- testing(tennis_split)\n",
    "\n",
    "missing_obs <- sum(apply(tennis_train, 1, function(x) any(is.na(x)))) # Used to find the number of missing observations  \n",
    "                         \n",
    "total_obs <- nrow(tennis_train) # Used to find the total number of observations\n",
    "                         \n",
    "mean_Height <- mean(tennis_train$Height, na.rm = TRUE) # Used to find the mean Height\n",
    "\n",
    "mean_Age <- mean(tennis_train$Age, na.rm = TRUE) # Used to find the mean Age\n",
    "\n",
    "          \n",
    "tab <- matrix(c(mean_Age, mean_Height, missing_obs, total_obs), ncol=4, byrow=TRUE) #used to create a table to express the answers.\n",
    "colnames(tab) <- c('Mean Age','Mean Height','Missing Observations', 'Observations')\n",
    "rownames(tab) <- c('Value')\n",
    "tab <- as.table(tab)\n",
    "tab\n",
    "\n",
    "\n",
    "\n"
   ]
  },
  {
   "cell_type": "markdown",
   "id": "a895fd41-c659-404f-8e54-36dfc7931d60",
   "metadata": {},
   "source": [
    "##### Distribution of Predictors\n",
    "Using the training data, we can create 3 graphs to visualize the distributions of each predictor variable used in our analysis. "
   ]
  },
  {
   "cell_type": "code",
   "execution_count": 82,
   "id": "6d68f33f-3bba-4e7b-978b-91fd2c6530e7",
   "metadata": {},
   "outputs": [
    {
     "name": "stderr",
     "output_type": "stream",
     "text": [
      "Warning message:\n",
      "“Removed 267 rows containing non-finite values (stat_bin).”\n",
      "Warning message:\n",
      "“Removed 1 rows containing non-finite values (stat_bin).”\n"
     ]
    },
    {
     "data": {
      "image/png": "[encoded data removed]",
      "text/plain": [
       "plot without title"
      ]
     },
     "metadata": {
      "image/png": {
       "height": 420,
       "width": 420
      }
     },
     "output_type": "display_data"
    },
    {
     "data": {
      "image/png": "[encoded data removed]",
      "text/plain": [
       "plot without title"
      ]
     },
     "metadata": {
      "image/png": {
       "height": 420,
       "width": 420
      }
     },
     "output_type": "display_data"
    },
    {
     "data": {
      "image/png": "[encoded data removed]",
      "text/plain": [
       "plot without title"
      ]
     },
     "metadata": {
      "image/png": {
       "height": 420,
       "width": 420
      }
     },
     "output_type": "display_data"
    }
   ],
   "source": [
    "# Create a histogram to show the Height distribution\n",
    "height_plot <- ggplot(tennis_train, aes(x = Height)) +\n",
    "  geom_histogram(colour = 1, fill = \"grey\", bins = 30) +\n",
    "  xlab(\"Height (in cm)\") +\n",
    "  ylab(\"Number of Top Tennis Athletes\") +\n",
    "  ggtitle(\"Height Distribution of Top Tennis Athletes\")\n",
    "\n",
    "# Create a histogram to show the Age distribution\n",
    "age_plot <- ggplot(tennis_train, aes(x = Age)) +\n",
    "  geom_histogram(colour = 1, fill = \"grey\", bins = 30) +\n",
    "  xlab(\"Age\") +\n",
    "  ylab(\"Number of Top Tennis Athletes\") +\n",
    "  ggtitle(\"Age Distribution of Top Tennis Athletes\")\n",
    "\n",
    "# Create a bar graph to compare right and left Hand-Dominance\n",
    "hand_data <- group_by(tennis_train, Plays) |> summarize(count = n()) \n",
    "\n",
    "hand_bar <- ggplot(hand_data, aes(x = Plays, y = count, fill = Plays)) +\n",
    "  geom_bar(stat = \"identity\") +\n",
    "  xlab(\"Hand-Dominance\") +\n",
    "  ylab(\"Number of Top Tennis Athletes\") +\n",
    "  labs(fill = \"Hand-Dominance\") +\n",
    "  ggtitle(\"Hand-Dominance of Top Tennis Athletes\")\n",
    "\n",
    "height_plot\n",
    "age_plot\n",
    "hand_bar"
   ]
  },
  {
   "cell_type": "code",
   "execution_count": null,
   "id": "a3961ef2-b6b0-4d4d-bb40-4c9af06a0b71",
   "metadata": {},
   "outputs": [],
   "source": []
  }
 ],
 "metadata": {
  "kernelspec": {
   "display_name": "R",
   "language": "R",
   "name": "ir"
  },
  "language_info": {
   "codemirror_mode": "r",
   "file_extension": ".r",
   "mimetype": "text/x-r-source",
   "name": "R",
   "pygments_lexer": "r",
   "version": "4.1.3"
  }
 },
 "nbformat": 4,
 "nbformat_minor": 5
}
