{
 "cells": [
  {
   "cell_type": "markdown",
   "id": "469aa960-a4ca-4c1a-ad98-129de4a0a2de",
   "metadata": {},
   "source": [
    "# The Characteristics of a Tennis Match Winner\n",
    "\n",
    "### Group 38 Project Proposal\n",
    "\n",
    "#### Introduction\n",
    "Likelihood of winning a game of tennis can be divided into four categories: strategy, technique, physical attributes and preparation, and mental game. While all components contribute to a win, we aim to test the importance of physical attributes and preparation by predicting the rank of a tennis player based on attributes such as height, age, hand-dominance, seasons active, and favorite surface. To answer this question we will use data from the dataset “player_stats.csv”, which describes the player statistics for the top 500 tennis players, using data on physical attributes such as height, age, and hand dominance, as well as on variables such as seasons active and favorite surface. \n",
    "\n",
    "#### Preliminary exploratory data analysis\n",
    "\n",
    "##### Methods\n",
    "The columns we will be using for this project are “winner_ht” (winner height), “winner_hand”, and “winner_age”. We will be using a histogram to visualise the results by plotting players’ heights, handedness, or age (on the x-axis) with their frequency of winning tennis matches (on the y-axis). There will be 3 separate histograms, one for each respective variable. The value associated with the highest bars in each histogram will be classified as the likely characteristic of a tennis match winner. \n",
    "\n",
    "##### Expected outcomes and significance:\n",
    "\n",
    "- What do you expect to find?\n",
    "- What impact could such findings have?\n",
    "- What future questions could this lead to?\n",
    "\n"
   ]
  },
  {
   "cell_type": "code",
   "execution_count": 1,
   "id": "f43c947e-c4e0-40f5-8087-9e0d8e5b51d3",
   "metadata": {},
   "outputs": [
    {
     "name": "stderr",
     "output_type": "stream",
     "text": [
      "── \u001b[1mAttaching packages\u001b[22m ─────────────────────────────────────── tidyverse 1.3.1 ──\n",
      "\n",
      "\u001b[32m✔\u001b[39m \u001b[34mggplot2\u001b[39m 3.3.6     \u001b[32m✔\u001b[39m \u001b[34mpurrr  \u001b[39m 0.3.4\n",
      "\u001b[32m✔\u001b[39m \u001b[34mtibble \u001b[39m 3.1.7     \u001b[32m✔\u001b[39m \u001b[34mdplyr  \u001b[39m 1.0.9\n",
      "\u001b[32m✔\u001b[39m \u001b[34mtidyr  \u001b[39m 1.2.0     \u001b[32m✔\u001b[39m \u001b[34mstringr\u001b[39m 1.4.0\n",
      "\u001b[32m✔\u001b[39m \u001b[34mreadr  \u001b[39m 2.1.2     \u001b[32m✔\u001b[39m \u001b[34mforcats\u001b[39m 0.5.1\n",
      "\n",
      "── \u001b[1mConflicts\u001b[22m ────────────────────────────────────────── tidyverse_conflicts() ──\n",
      "\u001b[31m✖\u001b[39m \u001b[34mdplyr\u001b[39m::\u001b[32mfilter()\u001b[39m masks \u001b[34mstats\u001b[39m::filter()\n",
      "\u001b[31m✖\u001b[39m \u001b[34mdplyr\u001b[39m::\u001b[32mlag()\u001b[39m    masks \u001b[34mstats\u001b[39m::lag()\n",
      "\n",
      "── \u001b[1mAttaching packages\u001b[22m ────────────────────────────────────── tidymodels 1.0.0 ──\n",
      "\n",
      "\u001b[32m✔\u001b[39m \u001b[34mbroom       \u001b[39m 1.0.0     \u001b[32m✔\u001b[39m \u001b[34mrsample     \u001b[39m 1.0.0\n",
      "\u001b[32m✔\u001b[39m \u001b[34mdials       \u001b[39m 1.0.0     \u001b[32m✔\u001b[39m \u001b[34mtune        \u001b[39m 1.0.0\n",
      "\u001b[32m✔\u001b[39m \u001b[34minfer       \u001b[39m 1.0.2     \u001b[32m✔\u001b[39m \u001b[34mworkflows   \u001b[39m 1.0.0\n",
      "\u001b[32m✔\u001b[39m \u001b[34mmodeldata   \u001b[39m 1.0.0     \u001b[32m✔\u001b[39m \u001b[34mworkflowsets\u001b[39m 1.0.0\n",
      "\u001b[32m✔\u001b[39m \u001b[34mparsnip     \u001b[39m 1.0.0     \u001b[32m✔\u001b[39m \u001b[34myardstick   \u001b[39m 1.0.0\n",
      "\u001b[32m✔\u001b[39m \u001b[34mrecipes     \u001b[39m 1.0.1     \n",
      "\n",
      "── \u001b[1mConflicts\u001b[22m ───────────────────────────────────────── tidymodels_conflicts() ──\n",
      "\u001b[31m✖\u001b[39m \u001b[34mscales\u001b[39m::\u001b[32mdiscard()\u001b[39m masks \u001b[34mpurrr\u001b[39m::discard()\n",
      "\u001b[31m✖\u001b[39m \u001b[34mdplyr\u001b[39m::\u001b[32mfilter()\u001b[39m   masks \u001b[34mstats\u001b[39m::filter()\n",
      "\u001b[31m✖\u001b[39m \u001b[34mrecipes\u001b[39m::\u001b[32mfixed()\u001b[39m  masks \u001b[34mstringr\u001b[39m::fixed()\n",
      "\u001b[31m✖\u001b[39m \u001b[34mdplyr\u001b[39m::\u001b[32mlag()\u001b[39m      masks \u001b[34mstats\u001b[39m::lag()\n",
      "\u001b[31m✖\u001b[39m \u001b[34myardstick\u001b[39m::\u001b[32mspec()\u001b[39m masks \u001b[34mreadr\u001b[39m::spec()\n",
      "\u001b[31m✖\u001b[39m \u001b[34mrecipes\u001b[39m::\u001b[32mstep()\u001b[39m   masks \u001b[34mstats\u001b[39m::step()\n",
      "\u001b[34m•\u001b[39m Use \u001b[32mtidymodels_prefer()\u001b[39m to resolve common conflicts.\n",
      "\n",
      "Warning message in file(filename, \"r\", encoding = encoding):\n",
      "“cannot open file 'tests.R': No such file or directory”\n"
     ]
    },
    {
     "ename": "ERROR",
     "evalue": "Error in file(filename, \"r\", encoding = encoding): cannot open the connection\n",
     "output_type": "error",
     "traceback": [
      "Error in file(filename, \"r\", encoding = encoding): cannot open the connection\nTraceback:\n",
      "1. source(\"tests.R\")",
      "2. file(filename, \"r\", encoding = encoding)"
     ]
    }
   ],
   "source": [
    "# Setup\n",
    "\n",
    "library(tidyverse)\n",
    "library(repr)\n",
    "library(tidymodels)\n",
    "options(repr.matrix.max.rows = 6)\n",
    "source(\"tests.R\")\n",
    "source('cleanup.R')"
   ]
  },
  {
   "cell_type": "markdown",
   "id": "b43404ab-4a2c-4cee-ab59-73243328eed1",
   "metadata": {},
   "source": [
    "First, load the data from the web."
   ]
  },
  {
   "cell_type": "code",
   "execution_count": 10,
   "id": "80b62a2d-78af-4969-9fc9-b21f021450fa",
   "metadata": {},
   "outputs": [
    {
     "name": "stderr",
     "output_type": "stream",
     "text": [
      "\u001b[1m\u001b[22mNew names:\n",
      "\u001b[36m•\u001b[39m `` -> `...1`\n",
      "\u001b[1mRows: \u001b[22m\u001b[34m500\u001b[39m \u001b[1mColumns: \u001b[22m\u001b[34m38\u001b[39m\n",
      "\u001b[36m──\u001b[39m \u001b[1mColumn specification\u001b[22m \u001b[36m────────────────────────────────────────────────────────\u001b[39m\n",
      "\u001b[1mDelimiter:\u001b[22m \",\"\n",
      "\u001b[31mchr\u001b[39m (25): Age, Country, Plays, Wikipedia, Current Rank, Best Rank, Name, Bac...\n",
      "\u001b[32mdbl\u001b[39m (13): ...1, Turned Pro, Seasons, Titles, Best Season, Retired, Masters, ...\n",
      "\n",
      "\u001b[36mℹ\u001b[39m Use `spec()` to retrieve the full column specification for this data.\n",
      "\u001b[36mℹ\u001b[39m Specify the column types or set `show_col_types = FALSE` to quiet this message.\n"
     ]
    },
    {
     "data": {
      "text/html": [
       "<table class=\"dataframe\">\n",
       "<caption>A tibble: 115 × 4</caption>\n",
       "<thead>\n",
       "\t<tr><th scope=col>Age</th><th scope=col>Plays</th><th scope=col>Current.Rank</th><th scope=col>Height</th></tr>\n",
       "\t<tr><th scope=col>&lt;chr&gt;</th><th scope=col>&lt;chr&gt;</th><th scope=col>&lt;chr&gt;</th><th scope=col>&lt;chr&gt;</th></tr>\n",
       "</thead>\n",
       "<tbody>\n",
       "\t<tr><td>32 (03-11-1987)</td><td>Right-handed</td><td>178 (280)</td><td>185 cm</td></tr>\n",
       "\t<tr><td>27 (21-10-1992)</td><td>Right-handed</td><td>183 (273)</td><td>193 cm</td></tr>\n",
       "\t<tr><td>31 (23-09-1988)</td><td>Right-handed</td><td>121 (460)</td><td>198 cm</td></tr>\n",
       "\t<tr><td>⋮</td><td>⋮</td><td>⋮</td><td>⋮</td></tr>\n",
       "\t<tr><td>29 (27-12-1990)</td><td>Right-handed</td><td>35 (1305)</td><td>196 cm</td></tr>\n",
       "\t<tr><td>34 (17-06-1985)</td><td>Right-handed</td><td>179 (279)</td><td>183 cm</td></tr>\n",
       "\t<tr><td>26 (03-09-1993)</td><td>Right-handed</td><td>5 (5890) </td><td>185 cm</td></tr>\n",
       "</tbody>\n",
       "</table>\n"
      ],
      "text/latex": [
       "A tibble: 115 × 4\n",
       "\\begin{tabular}{llll}\n",
       " Age & Plays & Current.Rank & Height\\\\\n",
       " <chr> & <chr> & <chr> & <chr>\\\\\n",
       "\\hline\n",
       "\t 32 (03-11-1987) & Right-handed & 178 (280) & 185 cm\\\\\n",
       "\t 27 (21-10-1992) & Right-handed & 183 (273) & 193 cm\\\\\n",
       "\t 31 (23-09-1988) & Right-handed & 121 (460) & 198 cm\\\\\n",
       "\t ⋮ & ⋮ & ⋮ & ⋮\\\\\n",
       "\t 29 (27-12-1990) & Right-handed & 35 (1305) & 196 cm\\\\\n",
       "\t 34 (17-06-1985) & Right-handed & 179 (279) & 183 cm\\\\\n",
       "\t 26 (03-09-1993) & Right-handed & 5 (5890)  & 185 cm\\\\\n",
       "\\end{tabular}\n"
      ],
      "text/markdown": [
       "\n",
       "A tibble: 115 × 4\n",
       "\n",
       "| Age &lt;chr&gt; | Plays &lt;chr&gt; | Current.Rank &lt;chr&gt; | Height &lt;chr&gt; |\n",
       "|---|---|---|---|\n",
       "| 32 (03-11-1987) | Right-handed | 178 (280) | 185 cm |\n",
       "| 27 (21-10-1992) | Right-handed | 183 (273) | 193 cm |\n",
       "| 31 (23-09-1988) | Right-handed | 121 (460) | 198 cm |\n",
       "| ⋮ | ⋮ | ⋮ | ⋮ |\n",
       "| 29 (27-12-1990) | Right-handed | 35 (1305) | 196 cm |\n",
       "| 34 (17-06-1985) | Right-handed | 179 (279) | 183 cm |\n",
       "| 26 (03-09-1993) | Right-handed | 5 (5890)  | 185 cm |\n",
       "\n"
      ],
      "text/plain": [
       "    Age             Plays        Current.Rank Height\n",
       "1   32 (03-11-1987) Right-handed 178 (280)    185 cm\n",
       "2   27 (21-10-1992) Right-handed 183 (273)    193 cm\n",
       "3   31 (23-09-1988) Right-handed 121 (460)    198 cm\n",
       "⋮   ⋮               ⋮            ⋮            ⋮     \n",
       "113 29 (27-12-1990) Right-handed 35 (1305)    196 cm\n",
       "114 34 (17-06-1985) Right-handed 179 (279)    183 cm\n",
       "115 26 (03-09-1993) Right-handed 5 (5890)     185 cm"
      ]
     },
     "metadata": {},
     "output_type": "display_data"
    }
   ],
   "source": [
    "url <- \"https://drive.google.com/uc?export=download&id=1_MECmUXZuuILYeEOfonSGqodW6qVdhsS\"\n",
    "tennis <- read_csv(url) \n",
    "colnames(tennis) <- make.names(colnames(tennis))\n",
    "\n",
    "#Select only relevant columns \n",
    "tennis <- select(tennis, Age:Seasons)\n",
    "tennis <- select(tennis, -c(Country, Wikipedia, Best.Rank,Name,Backhand, Prize.Money, Favorite.Surface, Turned.Pro, Seasons))\n",
    "\n",
    "\n",
    "# Omit any rows with NA (there are still 113 rows left)\n",
    "tennis <- na.omit(tennis) \n",
    "\n",
    "# Remove date string from Age and Best.Rank\n",
    "tennis"
   ]
  },
  {
   "cell_type": "code",
   "execution_count": 22,
   "id": "a820b8ad-af8d-47ba-9336-9bc150f67852",
   "metadata": {},
   "outputs": [
    {
     "name": "stderr",
     "output_type": "stream",
     "text": [
      "Warning message:\n",
      "“Expected 2 pieces. Missing pieces filled with `NA` in 115 rows [1, 2, 3, 4, 5, 6, 7, 8, 9, 10, 11, 12, 13, 14, 15, 16, 17, 18, 19, 20, ...].”\n",
      "Warning message:\n",
      "“Expected 2 pieces. Missing pieces filled with `NA` in 115 rows [1, 2, 3, 4, 5, 6, 7, 8, 9, 10, 11, 12, 13, 14, 15, 16, 17, 18, 19, 20, ...].”\n",
      "Warning message:\n",
      "“Expected 2 pieces. Missing pieces filled with `NA` in 115 rows [1, 2, 3, 4, 5, 6, 7, 8, 9, 10, 11, 12, 13, 14, 15, 16, 17, 18, 19, 20, ...].”\n"
     ]
    },
    {
     "ename": "ERROR",
     "evalue": "\u001b[1m\u001b[33mError\u001b[39m in \u001b[1m\u001b[1m`select()`:\u001b[22m\n\u001b[33m!\u001b[39m Can't subset columns that don't exist.\n\u001b[31m✖\u001b[39m Column `s` doesn't exist.\n",
     "output_type": "error",
     "traceback": [
      "\u001b[1m\u001b[33mError\u001b[39m in \u001b[1m\u001b[1m`select()`:\u001b[22m\n\u001b[33m!\u001b[39m Can't subset columns that don't exist.\n\u001b[31m✖\u001b[39m Column `s` doesn't exist.\nTraceback:\n",
      "1. select(tennis, -c(x, s, birthday))",
      "2. select.data.frame(tennis, -c(x, s, birthday))",
      "3. tidyselect_fix_call(tidyselect::eval_select(expr(c(...)), .data), \n .     call = error_call)",
      "4. withCallingHandlers(expr, error = function(cnd) {\n .     cnd$call <- call\n .     cnd$parent <- NULL\n .     cnd_signal(cnd)\n . })",
      "5. tidyselect::eval_select(expr(c(...)), .data)",
      "6. eval_select_impl(data, names(data), as_quosure(expr, env), include = include, \n .     exclude = exclude, strict = strict, name_spec = name_spec, \n .     allow_rename = allow_rename, error_call = error_call, )",
      "7. with_subscript_errors(vars_select_eval(vars, expr, strict = strict, \n .     data = x, name_spec = name_spec, uniquely_named = uniquely_named, \n .     allow_rename = allow_rename, type = type, error_call = error_call), \n .     type = type)",
      "8. tryCatch(with_entraced_errors(expr), vctrs_error_subscript = function(cnd) {\n .     cnd$subscript_action <- subscript_action(type)\n .     cnd$subscript_elt <- \"column\"\n .     cnd_signal(cnd)\n . })",
      "9. tryCatchList(expr, classes, parentenv, handlers)",
      "10. tryCatchOne(expr, names, parentenv, handlers[[1L]])",
      "11. value[[3L]](cond)",
      "12. cnd_signal(cnd)",
      "13. signal_abort(cnd)",
      "14. signalCondition(cnd)",
      "15. (function (cnd) \n  . {\n  .     cnd$call <- call\n  .     cnd$parent <- NULL\n  .     cnd_signal(cnd)\n  . })(structure(list(message = \"\", trace = structure(list(call = list(\n  .     IRkernel::main(), kernel$run(), handle_shell(), executor$execute(msg), \n  .     tryCatch(evaluate(request$content$code, envir = .GlobalEnv, \n  .         output_handler = oh, stop_on_error = 1L), interrupt = function(cond) {\n  .         log_debug(\"Interrupt during execution\")\n  .         interrupted <<- TRUE\n  .     }, error = .self$handle_error), tryCatchList(expr, classes, \n  .         parentenv, handlers), tryCatchOne(tryCatchList(expr, \n  .         names[-nh], parentenv, handlers[-nh]), names[nh], parentenv, \n  .         handlers[[nh]]), doTryCatch(return(expr), name, parentenv, \n  .         handler), tryCatchList(expr, names[-nh], parentenv, handlers[-nh]), \n  .     tryCatchOne(expr, names, parentenv, handlers[[1L]]), doTryCatch(return(expr), \n  .         name, parentenv, handler), evaluate(request$content$code, \n  .         envir = .GlobalEnv, output_handler = oh, stop_on_error = 1L), \n  .     evaluate_call(expr, parsed$src[[i]], envir = envir, enclos = enclos, \n  .         debug = debug, last = i == length(out), use_try = stop_on_error != \n  .             2L, keep_warning = keep_warning, keep_message = keep_message, \n  .         output_handler = output_handler, include_timing = include_timing), \n  .     timing_fn(handle(ev <- withCallingHandlers(withVisible(eval_with_user_handlers(expr, \n  .         envir, enclos, user_handlers)), warning = wHandler, error = eHandler, \n  .         message = mHandler))), handle(ev <- withCallingHandlers(withVisible(eval_with_user_handlers(expr, \n  .         envir, enclos, user_handlers)), warning = wHandler, error = eHandler, \n  .         message = mHandler)), try(f, silent = TRUE), tryCatch(expr, \n  .         error = function(e) {\n  .             call <- conditionCall(e)\n  .             if (!is.null(call)) {\n  .                 if (identical(call[[1L]], quote(doTryCatch))) \n  .                   call <- sys.call(-4L)\n  .                 dcall <- deparse(call, nlines = 1L)\n  .                 prefix <- paste(\"Error in\", dcall, \": \")\n  .                 LONG <- 75L\n  .                 sm <- strsplit(conditionMessage(e), \"\\n\")[[1L]]\n  .                 w <- 14L + nchar(dcall, type = \"w\") + nchar(sm[1L], \n  .                   type = \"w\")\n  .                 if (is.na(w)) \n  .                   w <- 14L + nchar(dcall, type = \"b\") + nchar(sm[1L], \n  .                     type = \"b\")\n  .                 if (w > LONG) \n  .                   prefix <- paste0(prefix, \"\\n  \")\n  .             }\n  .             else prefix <- \"Error : \"\n  .             msg <- paste0(prefix, conditionMessage(e), \"\\n\")\n  .             .Internal(seterrmessage(msg[1L]))\n  .             if (!silent && isTRUE(getOption(\"show.error.messages\"))) {\n  .                 cat(msg, file = outFile)\n  .                 .Internal(printDeferredWarnings())\n  .             }\n  .             invisible(structure(msg, class = \"try-error\", condition = e))\n  .         }), tryCatchList(expr, classes, parentenv, handlers), \n  .     tryCatchOne(expr, names, parentenv, handlers[[1L]]), doTryCatch(return(expr), \n  .         name, parentenv, handler), withCallingHandlers(withVisible(eval_with_user_handlers(expr, \n  .         envir, enclos, user_handlers)), warning = wHandler, error = eHandler, \n  .         message = mHandler), withVisible(eval_with_user_handlers(expr, \n  .         envir, enclos, user_handlers)), eval_with_user_handlers(expr, \n  .         envir, enclos, user_handlers), eval(expr, envir, enclos), \n  .     eval(expr, envir, enclos), select(tennis, -c(x, s, birthday)), \n  .     select.data.frame(tennis, -c(x, s, birthday)), tidyselect_fix_call(tidyselect::eval_select(expr(c(...)), \n  .         .data), call = error_call), withCallingHandlers(expr, \n  .         error = function(cnd) {\n  .             cnd$call <- call\n  .             cnd$parent <- NULL\n  .             cnd_signal(cnd)\n  .         }), tidyselect::eval_select(expr(c(...)), .data), eval_select_impl(data, \n  .         names(data), as_quosure(expr, env), include = include, \n  .         exclude = exclude, strict = strict, name_spec = name_spec, \n  .         allow_rename = allow_rename, error_call = error_call, \n  .         ), with_subscript_errors(vars_select_eval(vars, expr, \n  .         strict = strict, data = x, name_spec = name_spec, uniquely_named = uniquely_named, \n  .         allow_rename = allow_rename, type = type, error_call = error_call), \n  .         type = type), tryCatch(with_entraced_errors(expr), vctrs_error_subscript = function(cnd) {\n  .         cnd$subscript_action <- subscript_action(type)\n  .         cnd$subscript_elt <- \"column\"\n  .         cnd_signal(cnd)\n  .     }), tryCatchList(expr, classes, parentenv, handlers), tryCatchOne(expr, \n  .         names, parentenv, handlers[[1L]]), doTryCatch(return(expr), \n  .         name, parentenv, handler), with_entraced_errors(expr), \n  .     try_fetch(expr, simpleError = function(cnd) {\n  .         abort(conditionMessage(cnd), call = conditionCall(cnd))\n  .     }), withCallingHandlers(expr, simpleError = function(cnd) {\n  .         {\n  .             .__handler_frame__. <- TRUE\n  .             .__setup_frame__. <- frame\n  .         }\n  .         out <- handlers[[1L]](cnd)\n  .         if (!inherits(out, \"rlang_zap\")) \n  .             throw(out)\n  .     }), vars_select_eval(vars, expr, strict = strict, data = x, \n  .         name_spec = name_spec, uniquely_named = uniquely_named, \n  .         allow_rename = allow_rename, type = type, error_call = error_call), \n  .     walk_data_tree(expr, data_mask, context_mask, error_call), \n  .     eval_c(expr, data_mask, context_mask), reduce_sels(node, \n  .         data_mask, context_mask, init = init), walk_data_tree(new, \n  .         data_mask, context_mask), eval_c(expr, data_mask, context_mask), \n  .     reduce_sels(node, data_mask, context_mask, init = init), \n  .     walk_data_tree(new, data_mask, context_mask), as_indices_sel_impl(out, \n  .         vars = vars, strict = strict, data = data, call = error_call), \n  .     as_indices_impl(x, vars, call = call, strict = strict), chr_as_locations(x, \n  .         vars, call = call), vctrs::vec_as_location(x, n = length(vars), \n  .         names = vars), `<fn>`(), stop_subscript_oob(i = i, subscript_type = subscript_type, \n  .         names = names, subscript_action = subscript_action, subscript_arg = subscript_arg, \n  .         call = call), stop_subscript(class = \"vctrs_error_subscript_oob\", \n  .         i = i, subscript_type = subscript_type, ..., call = call), \n  .     abort(class = c(class, \"vctrs_error_subscript\"), i = i, ..., \n  .         call = vctrs_error_call(call))), parent = c(0L, 1L, 2L, \n  . 3L, 4L, 5L, 6L, 7L, 6L, 9L, 10L, 4L, 12L, 13L, 13L, 15L, 16L, \n  . 17L, 18L, 19L, 13L, 13L, 13L, 23L, 24L, 0L, 0L, 27L, 28L, 27L, \n  . 30L, 31L, 32L, 33L, 34L, 35L, 32L, 37L, 38L, 31L, 40L, 41L, 42L, \n  . 43L, 44L, 45L, 46L, 47L, 48L, 49L, 50L, 51L, 52L, 53L, 54L), \n  .     visible = c(TRUE, TRUE, TRUE, TRUE, TRUE, TRUE, TRUE, TRUE, \n  .     TRUE, TRUE, TRUE, TRUE, TRUE, TRUE, TRUE, TRUE, TRUE, TRUE, \n  .     TRUE, TRUE, TRUE, TRUE, TRUE, TRUE, TRUE, TRUE, TRUE, TRUE, \n  .     TRUE, TRUE, TRUE, TRUE, TRUE, TRUE, TRUE, TRUE, TRUE, TRUE, \n  .     TRUE, TRUE, TRUE, TRUE, TRUE, TRUE, TRUE, TRUE, TRUE, TRUE, \n  .     TRUE, TRUE, FALSE, FALSE, FALSE, FALSE, FALSE), namespace = c(\"IRkernel\", \n  .     NA, \"IRkernel\", NA, \"base\", \"base\", \"base\", \"base\", \"base\", \n  .     \"base\", \"base\", \"evaluate\", \"evaluate\", \"evaluate\", \"evaluate\", \n  .     \"base\", \"base\", \"base\", \"base\", \"base\", \"base\", \"base\", \"evaluate\", \n  .     \"base\", \"base\", \"dplyr\", \"dplyr\", \"dplyr\", \"base\", \"tidyselect\", \n  .     \"tidyselect\", \"tidyselect\", \"base\", \"base\", \"base\", \"base\", \n  .     \"tidyselect\", \"rlang\", \"base\", \"tidyselect\", \"tidyselect\", \n  .     \"tidyselect\", \"tidyselect\", \"tidyselect\", \"tidyselect\", \"tidyselect\", \n  .     \"tidyselect\", \"tidyselect\", \"tidyselect\", \"tidyselect\", \"vctrs\", \n  .     \"vctrs\", \"vctrs\", \"vctrs\", \"rlang\"), scope = c(\"::\", NA, \n  .     \"local\", NA, \"::\", \"local\", \"local\", \"local\", \"local\", \"local\", \n  .     \"local\", \"::\", \":::\", \"local\", \"local\", \"::\", \"::\", \"local\", \n  .     \"local\", \"local\", \"::\", \"::\", \":::\", \"::\", \"::\", \"::\", \":::\", \n  .     \":::\", \"::\", \"::\", \":::\", \":::\", \"::\", \"local\", \"local\", \n  .     \"local\", \":::\", \"::\", \"::\", \":::\", \":::\", \":::\", \":::\", \":::\", \n  .     \":::\", \":::\", \":::\", \":::\", \":::\", \":::\", \"::\", \"local\", \n  .     \":::\", \":::\", \"::\"), error_frame = c(FALSE, FALSE, FALSE, \n  .     FALSE, FALSE, FALSE, FALSE, FALSE, FALSE, FALSE, FALSE, FALSE, \n  .     FALSE, FALSE, FALSE, FALSE, FALSE, FALSE, FALSE, FALSE, FALSE, \n  .     FALSE, FALSE, FALSE, FALSE, FALSE, FALSE, FALSE, FALSE, FALSE, \n  .     FALSE, FALSE, FALSE, FALSE, FALSE, FALSE, FALSE, FALSE, FALSE, \n  .     FALSE, FALSE, FALSE, FALSE, FALSE, FALSE, FALSE, FALSE, FALSE, \n  .     FALSE, TRUE, FALSE, FALSE, FALSE, FALSE, FALSE)), row.names = c(NA, \n  . -55L), version = 2L, class = c(\"rlang_trace\", \"rlib_trace\", \"tbl\", \n  . \"data.frame\")), parent = NULL, i = \"s\", subscript_type = \"character\", \n  .     names = c(\"Age\", \"birthday\", \"Plays\", \"Current.Rank\", \"x\", \n  .     \"Height\", \"p\", \"2x\"), subscript_action = \"subset\", subscript_arg = \"x\", \n  .     call = chr_as_locations(x, vars, call = call), subscript_elt = \"column\"), class = c(\"vctrs_error_subscript_oob\", \n  . \"vctrs_error_subscript\", \"rlang_error\", \"error\", \"condition\")))",
      "16. cnd_signal(cnd)",
      "17. signal_abort(cnd)"
     ]
    }
   ],
   "source": [
    "tennis <- separate(tennis,\n",
    "                      col = Age, into = c(\"Age\", \"birthday\"), sep = \" \", convert = TRUE) |>\n",
    "separate(col = Current.Rank, into = c(\"Current.Rank\", \"x\"), sep = \" \", convert = TRUE) |>\n",
    "separate(col = Height, into = c(\"Height\", \"p\"), sep = \" \", convert = TRUE) \n",
    "\n",
    "tennis <- select(tennis, -c(x, p, birthday))\n",
    "tennis"
   ]
  },
  {
   "cell_type": "code",
   "execution_count": null,
   "id": "79d38385-6f53-4fc2-acb4-444b695a5b8c",
   "metadata": {},
   "outputs": [],
   "source": []
  }
 ],
 "metadata": {
  "kernelspec": {
   "display_name": "R",
   "language": "R",
   "name": "ir"
  },
  "language_info": {
   "codemirror_mode": "r",
   "file_extension": ".r",
   "mimetype": "text/x-r-source",
   "name": "R",
   "pygments_lexer": "r",
   "version": "4.1.3"
  }
 },
 "nbformat": 4,
 "nbformat_minor": 5
}
